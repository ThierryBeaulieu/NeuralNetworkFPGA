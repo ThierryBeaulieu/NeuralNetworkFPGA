{
 "cells": [
  {
   "cell_type": "code",
   "execution_count": 49,
   "metadata": {},
   "outputs": [],
   "source": [
    "import numpy as np"
   ]
  },
  {
   "cell_type": "code",
   "execution_count": 50,
   "metadata": {},
   "outputs": [],
   "source": [
    "def sigmoid(x):\n",
    "    return 1 / (1 + np.exp(-x))"
   ]
  },
  {
   "cell_type": "markdown",
   "metadata": {},
   "source": [
    "## Step 0 : Load the Data"
   ]
  },
  {
   "cell_type": "code",
   "execution_count": 51,
   "metadata": {},
   "outputs": [],
   "source": [
    "x = np.load('x.npy') # 5000 images\n",
    "y = np.load('y.npy')\n",
    "\n",
    "theta_0 = np.load('theta_0.npy')\n",
    "theta_1 = np.load('theta_1.npy')"
   ]
  },
  {
   "cell_type": "markdown",
   "metadata": {},
   "source": [
    "## Step 1. Convert Pixels Using Fixed Point Notation"
   ]
  },
  {
   "cell_type": "code",
   "execution_count": null,
   "metadata": {},
   "outputs": [],
   "source": [
    "# image [0.0, 1.0[\n",
    "# 4 bits [0 signed, 0 integer, 4 fractional]\n",
    "def float_to_fix_point_unsigned(x: float, n: int) -> int:\n",
    "    if x >= 1.0:\n",
    "        x = 0.99999\n",
    "    res = int(x * pow(2, n))\n",
    "    return res\n",
    "\n",
    "imgIndex = 0\n",
    "\n",
    "image = x[imgIndex]\n",
    "\n",
    "image_fp04 = np.zeros_like(image)\n",
    "for i in range(image.shape[0]):\n",
    "    image_fp04[i] = float_to_fix_point_unsigned(image[i], 4)"
   ]
  },
  {
   "cell_type": "markdown",
   "metadata": {},
   "source": [
    "## Step 2. Convert First Hidden Layer Weights Into Fixed Point Notation"
   ]
  },
  {
   "cell_type": "code",
   "execution_count": null,
   "metadata": {},
   "outputs": [],
   "source": [
    "# theta_0 [-1.463369, 1.00899]\n",
    "# 4 bits [1 signed, 1 integer, 2 fractional]\n",
    "def weight_to_fixed_point(weight: float):\n",
    "    binary = \"\"\n",
    "    # Signed bit\n",
    "    if weight <= -0.25:\n",
    "        binary += \"1\"\n",
    "    else:\n",
    "        binary += \"0\"\n",
    "    \n",
    "    # Integer part\n",
    "    integer_part = int(weight)\n",
    "    binary_conversion = {0: \"0\", 1 :\"1\"}\n",
    "    binary += binary_conversion[abs(integer_part)]\n",
    "\n",
    "    # Fractional part\n",
    "    fractional_part = abs(weight - integer_part)\n",
    "    if fractional_part >= 0.5:\n",
    "        binary += \"1\"\n",
    "        fractional_part -= 0.5\n",
    "    else:\n",
    "        binary += \"0\"\n",
    "    \n",
    "    if fractional_part >= 0.25:\n",
    "        binary += \"1\"\n",
    "    else:\n",
    "        binary += \"0\"\n",
    "    # if int(binary, 2) > 0:\n",
    "    #    print(f\"weights {round(weight, 2)} binary {binary}\")\n",
    "    return int(binary, 2)\n",
    "\n",
    "theta_0_fp = np.zeros_like(theta_0)\n",
    "for i in range(theta_0.shape[0]): # 25\n",
    "    for j in range(theta_0.shape[1]): # 401\n",
    "        theta_0_fp[i][j] = weight_to_fixed_point(theta_0[i][j])"
   ]
  },
  {
   "cell_type": "markdown",
   "metadata": {},
   "source": [
    "## Step 3. Make The Second Hidden Layer Multiplication X*W "
   ]
  },
  {
   "cell_type": "code",
   "execution_count": null,
   "metadata": {},
   "outputs": [],
   "source": [
    "xp = np.hstack((1, image))\n",
    "hiddenLayer1 = np.dot(xp,theta_0.T)\n",
    "\n",
    "\n",
    "fl_hiddenLayer1 = []\n",
    "for i in range(0, len(theta_0)): # [0, 24]\n",
    "    row = theta_0[i]\n",
    "    product = 0\n",
    "    for j in range(0, len(row)): # [0, 400]\n",
    "        weight = row[j]\n",
    "        pixel = xp[j]\n",
    "        # todo convertir les valeurs en nombres de 4 bits signés?\n",
    "        product = product + weight * pixel\n",
    "    fl_hiddenLayer1.append(product)\n",
    "\n",
    "# Step 4. Apply the Sigmoid Function For First Hidden Layer\n",
    "\n",
    "# Step 5. Convert Second Hidden Layer Weights Into Fixed Point Notation\n",
    "\n",
    "# Step 6. Make The Second Hidden Layer Multiplication X*W \n",
    "\n",
    "# Step 7. Apply the Sigmoid Function For Second Hidden Layer\n",
    "\n",
    "# Step 8. Display FPGA Approximation"
   ]
  },
  {
   "cell_type": "code",
   "execution_count": null,
   "metadata": {},
   "outputs": [],
   "source": [
    "# Calculer sur le FPGA\n",
    "xp = np.hstack((1, image)) # Ajouter 1 pour le biais\n",
    "hiddenLayer1 = np.dot(xp,theta_0.T)\n",
    "\n",
    "a = sigmoid(hiddenLayer1) # Sortie de la couche 1\n",
    "ap = np.hstack((1, a)) # Ajouter 1 pour le biais\n",
    "b = sigmoid(np.dot(ap,theta_1.T)) # Sortie de la couche 2\n",
    "print(\"FPGA Output:\",b)\n",
    "\n",
    "# Calculer dans le notebook\n",
    "pred = b.argmax()\n",
    "print(\"Prediction:\", pred, \"Label:\", y[idx])"
   ]
  }
 ],
 "metadata": {
  "kernelspec": {
   "display_name": "Python 3",
   "language": "python",
   "name": "python3"
  },
  "language_info": {
   "codemirror_mode": {
    "name": "ipython",
    "version": 3
   },
   "file_extension": ".py",
   "mimetype": "text/x-python",
   "name": "python",
   "nbconvert_exporter": "python",
   "pygments_lexer": "ipython3",
   "version": "3.10.0"
  }
 },
 "nbformat": 4,
 "nbformat_minor": 2
}
