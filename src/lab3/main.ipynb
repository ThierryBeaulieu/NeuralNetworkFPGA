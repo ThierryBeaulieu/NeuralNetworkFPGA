{
 "cells": [
  {
   "cell_type": "code",
   "execution_count": 1,
   "metadata": {},
   "outputs": [],
   "source": [
    "import numpy as np"
   ]
  },
  {
   "cell_type": "code",
   "execution_count": 2,
   "metadata": {},
   "outputs": [],
   "source": [
    "def sigmoid(x):\n",
    "    return 1 / (1 + np.exp(-x))"
   ]
  },
  {
   "cell_type": "code",
   "execution_count": 3,
   "metadata": {},
   "outputs": [],
   "source": [
    "x = np.load('x.npy') # 5000 images\n",
    "y = np.load('y.npy')\n",
    "\n",
    "theta_0 = np.load('theta_0.npy')\n",
    "theta_1 = np.load('theta_1.npy')"
   ]
  },
  {
   "cell_type": "code",
   "execution_count": 4,
   "metadata": {},
   "outputs": [
    {
     "name": "stdout",
     "output_type": "stream",
     "text": [
      "-2.8864903707584992\n",
      "-2.627589487865158\n",
      "4.978249302788464\n",
      "0.13652241097741863\n",
      "0.9344568207070681\n",
      "5.649162795307462\n",
      "-4.574623497386452\n",
      "-6.436168853406793\n",
      "5.570101027535296\n",
      "-3.894766638919115\n",
      "-2.521838093517566\n",
      "-3.7859793619873496\n",
      "-2.9884101130989316\n",
      "-2.927813861994206\n",
      "-5.4667274936400885\n",
      "2.0176854495123466\n",
      "4.732885339700824\n",
      "-2.3207866950517317\n",
      "1.6731172507068153\n",
      "1.36724315335429\n",
      "-3.673168770120536\n",
      "4.103596326223249\n",
      "3.670360437342782\n",
      "2.845977233877717\n",
      "-2.169111998038491\n"
     ]
    }
   ],
   "source": [
    "# Step 1. Convert Pixels Using Fixed Point Notation\n",
    "imgIndex = 0\n",
    "image = x[imgIndex]\n",
    "\n",
    "# Step 2. Convert First Hidden Layer Weights Into Fixed Point Notation\n",
    "xp = np.hstack((1, image))\n",
    "hiddenLayer1 = np.dot(xp,theta_0.T)\n",
    "\n",
    "# Step 3. Make The Second Hidden Layer Multiplication X*W \n",
    "fl_hiddenLayer1 = []\n",
    "for i in range(0, len(theta_0)): # [0, 24]\n",
    "    row = theta_0[i]\n",
    "    product = 0\n",
    "    for j in range(0, len(row)): # [0, 400]\n",
    "        weight = row[j]\n",
    "        pixel = xp[j]\n",
    "        # todo convertir les valeurs en nombres de 4 bits signés?\n",
    "        product = product + weight * pixel\n",
    "    fl_hiddenLayer1.append(product)\n",
    "\n",
    "for element in fl_hiddenLayer1:\n",
    "    print(element)\n",
    "\n",
    "# Step 4. Apply the Sigmoid Function For First Hidden Layer\n",
    "\n",
    "# Step 5. Convert Second Hidden Layer Weights Into Fixed Point Notation\n",
    "\n",
    "# Step 6. Make The Second Hidden Layer Multiplication X*W \n",
    "\n",
    "# Step 7. Apply the Sigmoid Function For Second Hidden Layer\n",
    "\n",
    "# Step 8. Display FPGA Approximation\n"
   ]
  },
  {
   "cell_type": "code",
   "execution_count": null,
   "metadata": {},
   "outputs": [],
   "source": [
    "# Calculer sur le FPGA\n",
    "xp = np.hstack((1, image)) # Ajouter 1 pour le biais\n",
    "hiddenLayer1 = np.dot(xp,theta_0.T)\n",
    "\n",
    "a = sigmoid(hiddenLayer1) # Sortie de la couche 1\n",
    "ap = np.hstack((1, a)) # Ajouter 1 pour le biais\n",
    "b = sigmoid(np.dot(ap,theta_1.T)) # Sortie de la couche 2\n",
    "print(\"FPGA Output:\",b)\n",
    "\n",
    "# Calculer dans le notebook\n",
    "pred = b.argmax()\n",
    "print(\"Prediction:\", pred, \"Label:\", y[idx])"
   ]
  }
 ],
 "metadata": {
  "kernelspec": {
   "display_name": "Python 3",
   "language": "python",
   "name": "python3"
  },
  "language_info": {
   "codemirror_mode": {
    "name": "ipython",
    "version": 3
   },
   "file_extension": ".py",
   "mimetype": "text/x-python",
   "name": "python",
   "nbconvert_exporter": "python",
   "pygments_lexer": "ipython3",
   "version": "3.10.0"
  }
 },
 "nbformat": 4,
 "nbformat_minor": 2
}
