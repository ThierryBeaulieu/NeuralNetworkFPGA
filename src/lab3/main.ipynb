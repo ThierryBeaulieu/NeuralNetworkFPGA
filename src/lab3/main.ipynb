{
 "cells": [
  {
   "cell_type": "code",
   "execution_count": 1,
   "metadata": {},
   "outputs": [],
   "source": [
    "import numpy as np"
   ]
  },
  {
   "cell_type": "code",
   "execution_count": 2,
   "metadata": {},
   "outputs": [],
   "source": [
    "def sigmoid(x):\n",
    "    return 1 / (1 + np.exp(-x))"
   ]
  },
  {
   "cell_type": "markdown",
   "metadata": {},
   "source": [
    "## Step 0 : Load the Data"
   ]
  },
  {
   "cell_type": "code",
   "execution_count": 35,
   "metadata": {},
   "outputs": [],
   "source": [
    "x = np.load('x.npy') # 5000 images\n",
    "y = np.load('y.npy')\n",
    "\n",
    "theta_0 = np.load('theta_0.npy')\n",
    "theta_1 = np.load('theta_1.npy')"
   ]
  },
  {
   "cell_type": "markdown",
   "metadata": {},
   "source": [
    "## Step 1. Convert Pixels Using Fixed Point Notation"
   ]
  },
  {
   "cell_type": "code",
   "execution_count": null,
   "metadata": {},
   "outputs": [],
   "source": [
    "def float_to_fix_point_unsigned(x: float, n: int) -> int:\n",
    "    if x >= 1.0:\n",
    "        x = 0.99999\n",
    "    res = int(x * pow(2, n))\n",
    "    return res\n",
    "\n",
    "imgIndex = 0\n",
    "# image [0.0, 1.0[\n",
    "# 4 bits [0 signed, 0 integer, 4 fractional]\n",
    "image = x[imgIndex]\n",
    "\n",
    "image_fp04 = np.zeros_like(image)\n",
    "for i in range(image.shape[0]):\n",
    "    image_fp04[i] = float_to_fix_point_unsigned(image[i], 4)"
   ]
  },
  {
   "cell_type": "markdown",
   "metadata": {},
   "source": [
    "## Step 2. Convert First Hidden Layer Weights Into Fixed Point Notation"
   ]
  },
  {
   "cell_type": "code",
   "execution_count": null,
   "metadata": {},
   "outputs": [
    {
     "name": "stdout",
     "output_type": "stream",
     "text": [
      "1.0089920104197974\n"
     ]
    }
   ],
   "source": [
    "# theta_0 [-1.463369, 1.00899]\n",
    "# 4 bits [1 signed, 2 integer, 1 fractional]\n",
    "weights_fp04 = np.zeros_like(theta_0)\n",
    "for i in range(theta_0.shape[0]):\n",
    "    weights_fp04[i] = float_to_fix_point_unsigned(theta_0[i], 4)\n",
    "\n",
    "print(weights_fp04[::40])"
   ]
  },
  {
   "cell_type": "code",
   "execution_count": null,
   "metadata": {},
   "outputs": [],
   "source": [
    "xp = np.hstack((1, image))\n",
    "hiddenLayer1 = np.dot(xp,theta_0.T)\n",
    "\n",
    "# Step 3. Make The Second Hidden Layer Multiplication X*W \n",
    "fl_hiddenLayer1 = []\n",
    "for i in range(0, len(theta_0)): # [0, 24]\n",
    "    row = theta_0[i]\n",
    "    product = 0\n",
    "    for j in range(0, len(row)): # [0, 400]\n",
    "        weight = row[j]\n",
    "        pixel = xp[j]\n",
    "        # todo convertir les valeurs en nombres de 4 bits signés?\n",
    "        product = product + weight * pixel\n",
    "    fl_hiddenLayer1.append(product)\n",
    "\n",
    "# Step 4. Apply the Sigmoid Function For First Hidden Layer\n",
    "\n",
    "# Step 5. Convert Second Hidden Layer Weights Into Fixed Point Notation\n",
    "\n",
    "# Step 6. Make The Second Hidden Layer Multiplication X*W \n",
    "\n",
    "# Step 7. Apply the Sigmoid Function For Second Hidden Layer\n",
    "\n",
    "# Step 8. Display FPGA Approximation"
   ]
  },
  {
   "cell_type": "code",
   "execution_count": null,
   "metadata": {},
   "outputs": [],
   "source": [
    "# Calculer sur le FPGA\n",
    "xp = np.hstack((1, image)) # Ajouter 1 pour le biais\n",
    "hiddenLayer1 = np.dot(xp,theta_0.T)\n",
    "\n",
    "a = sigmoid(hiddenLayer1) # Sortie de la couche 1\n",
    "ap = np.hstack((1, a)) # Ajouter 1 pour le biais\n",
    "b = sigmoid(np.dot(ap,theta_1.T)) # Sortie de la couche 2\n",
    "print(\"FPGA Output:\",b)\n",
    "\n",
    "# Calculer dans le notebook\n",
    "pred = b.argmax()\n",
    "print(\"Prediction:\", pred, \"Label:\", y[idx])"
   ]
  }
 ],
 "metadata": {
  "kernelspec": {
   "display_name": "Python 3",
   "language": "python",
   "name": "python3"
  },
  "language_info": {
   "codemirror_mode": {
    "name": "ipython",
    "version": 3
   },
   "file_extension": ".py",
   "mimetype": "text/x-python",
   "name": "python",
   "nbconvert_exporter": "python",
   "pygments_lexer": "ipython3",
   "version": "3.10.0"
  }
 },
 "nbformat": 4,
 "nbformat_minor": 2
}
