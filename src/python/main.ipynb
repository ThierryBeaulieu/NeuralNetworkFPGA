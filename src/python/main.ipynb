{
 "cells": [
  {
   "cell_type": "markdown",
   "metadata": {},
   "source": [
    "# Comparison between theory and the results obtained"
   ]
  },
  {
   "cell_type": "code",
   "execution_count": null,
   "metadata": {},
   "outputs": [],
   "source": [
    "import numpy as np\n",
    "x = np.load('x.npy')\n",
    "y = np.load('y.npy')\n",
    "\n",
    "values = [0] + list(range(1, 256))  # Include 0 and numbers from 1 to 255\n",
    "probabilities = [0.8] + [0.2 / 255] * 255  # 90% probability for 0, rest evenly distributed\n",
    "\n",
    "# Generate the array\n",
    "theorical_pixel = np.random.choice(values, size=401, p=probabilities)\n",
    "np.save('test_pixels_10.npy', theorical_pixel)\n",
    "\n",
    "weightsFile = np.loadtxt(\"weights.csv\", delimiter=\",\").astype(np.int8)\n",
    "np.save('test_weight_10.npy', weightsFile[0])\n",
    "\n"
   ]
  },
  {
   "cell_type": "code",
   "execution_count": null,
   "metadata": {},
   "outputs": [
    {
     "name": "stdout",
     "output_type": "stream",
     "text": [
      "FPGA Output: 54\n",
      "Prediction: 1 Label: 10\n"
     ]
    }
   ],
   "source": [
    "image = np.load(\"test_pixels_10.npy\")\n",
    "weights = np.load(\"test_weight_10.npy\")\n",
    "\n",
    "fpga_out = (np.dot(image.astype(np.int16), weights.T.astype(np.int16)) >>\n",
    "8).astype(np.int8)\n",
    "pred = fpga_out.argmax() + 1\n",
    "print(\"FPGA Output:\",fpga_out)\n",
    "print(\"Prediction:\", pred, \"Label:\", y[1])"
   ]
  }
 ],
 "metadata": {
  "kernelspec": {
   "display_name": "theorical",
   "language": "python",
   "name": "python3"
  },
  "language_info": {
   "codemirror_mode": {
    "name": "ipython",
    "version": 3
   },
   "file_extension": ".py",
   "mimetype": "text/x-python",
   "name": "python",
   "nbconvert_exporter": "python",
   "pygments_lexer": "ipython3",
   "version": "3.13.0"
  }
 },
 "nbformat": 4,
 "nbformat_minor": 2
}
